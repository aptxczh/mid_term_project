{
 "cells": [
  {
   "cell_type": "markdown",
   "metadata": {},
   "source": [
    "# MTH 9871 Mid-term Project"
   ]
  },
  {
   "cell_type": "code",
   "execution_count": 1,
   "metadata": {
    "collapsed": true
   },
   "outputs": [],
   "source": [
    "\"\"\"\n",
    "Main test file. Generate the result of our code.\n",
    "\n",
    "Created: 11/27/17\n",
    "\n",
    "Author: Bingcheng Wang, Yawei Wang & Zhihao Chen\n",
    "\"\"\"\n",
    "from spread_options import SpreadOption\n",
    "import numpy as np"
   ]
  },
  {
   "cell_type": "code",
   "execution_count": null,
   "metadata": {
    "collapsed": false
   },
   "outputs": [],
   "source": [
    "## Parameters\n",
    "r = 0.1\n",
    "T = 1.0\n",
    "rho = 0.5\n",
    "delta_1 = 0.05\n",
    "sigma_1 = 0.2\n",
    "delta_2 = 0.05\n",
    "sigma_2 = 0.1\n",
    "\n",
    "## Test Theorem 1.1\n",
    "\n",
    "S0 = np.array([10, 5])\n",
    "N = 1000\n",
    "eta = 0.1\n",
    "ep = np.array([-4.2, 2.1])\n",
    "\n",
    "payoff = SpreadOption(S0, 1, T, r).P(N, eta, ep)\n",
    "\n",
    "print(max((S0[0] - S0[1] - 1), 0))\n",
    "print(payoff)"
   ]
  },
  {
   "cell_type": "code",
   "execution_count": 3,
   "metadata": {
    "collapsed": false
   },
   "outputs": [
    {
     "name": "stdout",
     "output_type": "stream",
     "text": [
      "7.82597702372\n"
     ]
    }
   ],
   "source": [
    "## Parameters\n",
    "r = 0.1\n",
    "T = 1.0\n",
    "rho = 0.5\n",
    "delta_1 = 0.05\n",
    "sigma_1 = 0.2\n",
    "delta_2 = 0.05\n",
    "sigma_2 = 0.1\n",
    "\n",
    "## Test GBM (K=1)\n",
    "\n",
    "S0 = np.array([100, 96])\n",
    "N = 128\n",
    "u_bar = 40\n",
    "eta = u_bar * 2 / N\n",
    "ep = np.array([-5.2, 2.1])\n",
    "\n",
    "s = SpreadOption(S0, 1, T, r).price(N, eta, ep, \"GBM\", sigma=np.array([sigma_1, sigma_2]), r=r, T=T, rho=rho)\n",
    "\n",
    "print(s)"
   ]
  },
  {
   "cell_type": "code",
   "execution_count": 4,
   "metadata": {
    "collapsed": false
   },
   "outputs": [
    {
     "name": "stdout",
     "output_type": "stream",
     "text": [
      "16.364563751\n"
     ]
    }
   ],
   "source": [
    "## Parameters\n",
    "r = 0.1\n",
    "T = 1.0\n",
    "rho = 0.5\n",
    "delta_1 = 0.05\n",
    "sigma_1 = 1.0\n",
    "rho_1 = -0.5\n",
    "delta_2 = 0.05\n",
    "sigma_2 = 0.5\n",
    "rho_2 = 0.25\n",
    "v0 = 0.04\n",
    "kappa = 1.0\n",
    "mu = 0.04\n",
    "sigma_v = 0.05\n",
    "\n",
    "## Test SV (K=1)\n",
    "S0 = np.array([100, 96])\n",
    "u_bar = 40\n",
    "N = 128\n",
    "eta = u_bar * 2 / N\n",
    "ep = np.array([-5.2, 2.1])\n",
    "\n",
    "s = SpreadOption(S0, 1, T, r).price(N, eta, ep, \"SV\", np.array([sigma_1, sigma_2, sigma_v]), r, T, \n",
    "                                    np.array([rho, rho_1, rho_2]), kappa, mu, v0, np.array([delta_1, delta_2]))\n",
    "print(s)"
   ]
  },
  {
   "cell_type": "code",
   "execution_count": 5,
   "metadata": {
    "collapsed": false
   },
   "outputs": [
    {
     "name": "stdout",
     "output_type": "stream",
     "text": [
      "10.0346516783\n"
     ]
    }
   ],
   "source": [
    "# Parameters\n",
    "r = 0.1\n",
    "T = 1.0\n",
    "rho = 0.5\n",
    "a_plus = 20.4499\n",
    "a_minus = 24.4499\n",
    "alpha = 0.4\n",
    "lambda_ = 10\n",
    "\n",
    "## Test VG (K=1)\n",
    "S0 = np.array([100, 96])\n",
    "u_bar = 40\n",
    "N = 128\n",
    "eta = u_bar * 2 / N\n",
    "ep = np.array([-5.2, 2.1])\n",
    "\n",
    "s = SpreadOption(S0, 1, T, r).price(N, eta, ep, \"ExpLevy\", lambda_, a_plus, a_minus, alpha, T)\n",
    "print(s)"
   ]
  },
  {
   "cell_type": "code",
   "execution_count": null,
   "metadata": {
    "collapsed": true
   },
   "outputs": [],
   "source": []
  }
 ],
 "metadata": {
  "anaconda-cloud": {},
  "kernelspec": {
   "display_name": "Python [conda env:py3k]",
   "language": "python",
   "name": "conda-env-py3k-py"
  },
  "language_info": {
   "codemirror_mode": {
    "name": "ipython",
    "version": 3
   },
   "file_extension": ".py",
   "mimetype": "text/x-python",
   "name": "python",
   "nbconvert_exporter": "python",
   "pygments_lexer": "ipython3",
   "version": "3.6.0"
  }
 },
 "nbformat": 4,
 "nbformat_minor": 2
}
