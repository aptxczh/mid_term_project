{
 "cells": [
  {
   "cell_type": "markdown",
   "metadata": {},
   "source": [
    "** Payoff **\n",
    "\n",
    "The payoff function of the spread call is\n",
    "$$ \\left(S_{1T} - S_{2T} - K\\right)^+ = \\left(e^{x_{1T}} - e^{x_{2T}} - K\\right)^+ $$"
   ]
  },
  {
   "cell_type": "markdown",
   "metadata": {},
   "source": [
    "** Theorem: **\n",
    "\n",
    "For any real numbers $\\epsilon = (\\epsilon_1, \\epsilon_2)$ with $\\epsilon_2 > 0$ and $\\epsilon_1 + \\epsilon_2 < -1$ and $x = (x_1, x_2)$,\n",
    "\n",
    "$$\n",
    "P(x) = \\left(e^{x_{1}} - e^{x_{2}} - 1\\right)^+ = \\left(\\frac{1}{2\\pi}\\right)^2\\iint_{\\mathbb{R}^2+i\\epsilon} e^{iux'}\\hat P(u)d^2 u\n",
    "$$\n",
    "\n",
    "where $\\hat P(u) = \\frac{\\Gamma(i(u_1+u_2)-1)\\Gamma(-iu_2)}{\\Gamma(iu_1+1)}$.\n",
    "\n",
    "The proof can be found in the appendix of the paper."
   ]
  },
  {
   "cell_type": "markdown",
   "metadata": {},
   "source": [
    "** Extension: (Not in this paper) **\n",
    "\n",
    "The paper does not mention how to calculate the price based on FFT when $K\\neq 1$. But we found a similar theorem which is based on Laplace Transform and we changed that to be a Fourier Transform, which include strike $K$.\n",
    "\n",
    "$$\n",
    "P(x) = \\left(e^{x_{1}} - e^{x_{2}} - K\\right)^+ = \\left(\\frac{1}{2\\pi}\\right)^2\\iint_{\\mathbb{R}^2+i\\epsilon} e^{iux'}K^{-i(u_1+u_2)+1} \\hat P(u)d^2 u\n",
    "$$"
   ]
  },
  {
   "cell_type": "markdown",
   "metadata": {},
   "source": [
    "** Pricing spread options **\n",
    "\n",
    "\\begin{align*}\n",
    "Spr(X_0; T) &= e^{-rT}\\mathbb{E}_{X_0}[(e^{X_{1T}} - e^{X_{2T}} - K)^+] \\\\\n",
    "&= e^{-rT}\\mathbb{E}_{X_0}\\left[\\left(\\frac{1}{2\\pi}\\right)^2\\iint_{\\mathbb{R}^2+i\\epsilon} e^{iuX_T'}K^{-i(u_1+u_2)+1} \\hat P(u)d^2 u\\right] \\\\\n",
    "&=\\left(\\frac{1}{2\\pi}\\right)^2e^{-rT}\\iint_{\\mathbb{R}^2+i\\epsilon} \\mathbb{E}_{X_0}[e^{iuX_T'}]\\,K^{-i(u_1+u_2)+1} \\hat P(u)d^2 u\n",
    "\\end{align*}\n",
    "\n",
    "\\mathbb{E}_{X_0}[e^{iuX_T'}] can be calculated based on some models. We assume the increment $X_T - X_0$ is independent of $X_0$. Then\n",
    "\n",
    "$$\n",
    "\\mathbb{E}_{X_0}[e^{iuX_T'}] = e^{iuX_0'}\\Phi(u;T)\n",
    "$$\n",
    "\n",
    "where $\\Phi(u;T)$ is the characteristic function based on certain models.\n",
    "\n",
    "Therefore\n",
    "$$\n",
    "Spr(X_0; T) = \\left(\\frac{1}{2\\pi}\\right)^2e^{-rT}\\iint_{\\mathbb{R}^2+i\\epsilon} e^{iuX_0'}\\Phi(u;T)[e^{iuX_T'}]\\,K^{-i(u_1+u_2)+1} \\hat P(u)d^2 u\n",
    "$$\n",
    "\n",
    "To calculate the double integral, we can use double sum over a lattice numerically."
   ]
  },
  {
   "cell_type": "code",
   "execution_count": null,
   "metadata": {
    "collapsed": true
   },
   "outputs": [],
   "source": []
  }
 ],
 "metadata": {
  "kernelspec": {
   "display_name": "Python [conda env:py3k]",
   "language": "python",
   "name": "conda-env-py3k-py"
  },
  "language_info": {
   "codemirror_mode": {
    "name": "ipython",
    "version": 3
   },
   "file_extension": ".py",
   "mimetype": "text/x-python",
   "name": "python",
   "nbconvert_exporter": "python",
   "pygments_lexer": "ipython3",
   "version": "3.6.0"
  }
 },
 "nbformat": 4,
 "nbformat_minor": 2
}
