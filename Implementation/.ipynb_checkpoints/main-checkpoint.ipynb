{
 "cells": [
  {
   "cell_type": "markdown",
   "metadata": {},
   "source": [
    "# MTH 9871 Mid-term Project"
   ]
  },
  {
   "cell_type": "code",
   "execution_count": 1,
   "metadata": {
    "collapsed": true
   },
   "outputs": [],
   "source": [
    "\"\"\"\n",
    "Main test file. Generate the result of our code.\n",
    "\n",
    "Created: 11/27/17\n",
    "\n",
    "Author: Bingcheng Wang, Yawei Wang & Zhihao Chen\n",
    "\"\"\"\n",
    "from spread_options import SpreadOption\n",
    "import numpy as np"
   ]
  },
  {
   "cell_type": "code",
   "execution_count": 2,
   "metadata": {
    "collapsed": true
   },
   "outputs": [],
   "source": [
    "## Parameters\n",
    "r = 0.1\n",
    "T = 1.0\n",
    "rho = 0.5\n",
    "delta_1 = 0.05\n",
    "sigma_1 = 0.2\n",
    "delta_2 = 0.05\n",
    "sigma_2 = 0.1"
   ]
  },
  {
   "cell_type": "code",
   "execution_count": 3,
   "metadata": {
    "collapsed": false
   },
   "outputs": [
    {
     "name": "stderr",
     "output_type": "stream",
     "text": [
      "/Users/hlzswbc/Documents/My Course/Baruch/2017Fall/9871_CM/mid_term_project/Implementation/spread_options.py:78: ComplexWarning: Casting complex values to real discards the imaginary part\n",
      "  H_mat[k1, k2] = -1**(k1+k2) * phi(u) * P_hat(u)\n"
     ]
    },
    {
     "name": "stdout",
     "output_type": "stream",
     "text": [
      "(9.1956450764e-07+6.76834314103e-07j)\n",
      "(1.2372919504e-30-5.67175731093e-32j)\n"
     ]
    }
   ],
   "source": [
    "S0 = np.array([100, 96])\n",
    "N = 128\n",
    "u_bar = 40\n",
    "eta = u_bar * 2 / N\n",
    "ep = np.array([-2.2, 0.1])\n",
    "s = SpreadOption(S0, 1, T, r).price(N, eta, ep, \"GBM\", sigma=np.array([sigma_1, sigma_2]), r=r, T=T, rho=rho)\n",
    "\n",
    "print(s)"
   ]
  },
  {
   "cell_type": "code",
   "execution_count": 5,
   "metadata": {
    "collapsed": false
   },
   "outputs": [
    {
     "data": {
      "text/plain": [
       "1.3691077706248469"
      ]
     },
     "execution_count": 5,
     "metadata": {},
     "output_type": "execute_result"
    }
   ],
   "source": [
    "np.exp(np.pi/10)"
   ]
  },
  {
   "cell_type": "code",
   "execution_count": 4,
   "metadata": {
    "collapsed": false
   },
   "outputs": [
    {
     "name": "stdout",
     "output_type": "stream",
     "text": [
      "(-9.02345797512e-12-5.98617533109e-14j)\n"
     ]
    }
   ],
   "source": [
    "print(s)"
   ]
  },
  {
   "cell_type": "code",
   "execution_count": null,
   "metadata": {
    "collapsed": true
   },
   "outputs": [],
   "source": []
  }
 ],
 "metadata": {
  "anaconda-cloud": {},
  "kernelspec": {
   "display_name": "Python [conda env:py3k]",
   "language": "python",
   "name": "conda-env-py3k-py"
  },
  "language_info": {
   "codemirror_mode": {
    "name": "ipython",
    "version": 3
   },
   "file_extension": ".py",
   "mimetype": "text/x-python",
   "name": "python",
   "nbconvert_exporter": "python",
   "pygments_lexer": "ipython3",
   "version": "3.6.0"
  }
 },
 "nbformat": 4,
 "nbformat_minor": 2
}
