{
 "cells": [
  {
   "cell_type": "code",
   "execution_count": 4,
   "metadata": {
    "collapsed": true
   },
   "outputs": [],
   "source": [
    "import numpy as np"
   ]
  },
  {
   "cell_type": "code",
   "execution_count": 11,
   "metadata": {
    "collapsed": true
   },
   "outputs": [],
   "source": [
    "from scipy.stats import norm\n",
    "def GBMbenchmark(S1,S2,K,sigma1,sigma2,rho,r,T):\n",
    "    a=S2+K\n",
    "    b=S2/(S2+K)\n",
    "    sigma=np.sqrt(sigma1**2-2*b*rho*sigma1*sigma2+b**2*sigma2**2)\n",
    "    d1=(np.log(S1/a)+(sigma1**2/2-b*rho*sigma1*sigma2+b**2*sigma2**2/2)*T)/(sigma*np.sqrt(T))\n",
    "    d2=(np.log(S1/a)+(-sigma1**2/2+rho*sigma1*sigma2+b**2*sigma2**2/2-b*sigma2**2)*T)/(sigma*np.sqrt(T))\n",
    "    d3=(np.log(S1/a)+(-sigma1**2/2+b**2*sigma2**2/2)*T)/(sigma*np.sqrt(T))\n",
    "    return np.exp(-r*T)*(S1*norm.cdf(d1)-S2*norm.cdf(d2)-K*norm.cdf(d3))"
   ]
  },
  {
   "cell_type": "code",
<<<<<<< HEAD
   "execution_count": 14,
   "metadata": {
    "collapsed": false
   },
=======
   "execution_count": 20,
   "metadata": {},
>>>>>>> origin/master
   "outputs": [
    {
     "name": "stdout",
     "output_type": "stream",
     "text": [
      "8.70423361591\n",
      "8.50654890059\n",
      "8.3120125861\n",
      "8.1206191044\n",
      "7.93236138146\n",
      "7.7472308655\n",
      "7.56521755684\n",
      "7.38631003947\n",
      "7.21049551412\n"
     ]
    }
   ],
   "source": [
    "for i in range(9):\n",
    "    print(GBMbenchmark(100*np.exp(0.095),96*np.exp(0.095),0.4+i*0.4,0.2,0.1,0.5,0.1,1))"
   ]
  },
  {
   "cell_type": "code",
   "execution_count": null,
   "metadata": {
    "collapsed": true
   },
   "outputs": [],
   "source": []
  }
 ],
 "metadata": {
  "kernelspec": {
   "display_name": "Python [conda env:py3k]",
   "language": "python",
   "name": "conda-env-py3k-py"
  },
  "language_info": {
   "codemirror_mode": {
    "name": "ipython",
    "version": 3
   },
   "file_extension": ".py",
   "mimetype": "text/x-python",
   "name": "python",
   "nbconvert_exporter": "python",
   "pygments_lexer": "ipython3",
   "version": "3.6.0"
  }
 },
 "nbformat": 4,
 "nbformat_minor": 1
}
